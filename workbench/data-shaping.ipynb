{
 "cells": [
  {
   "cell_type": "markdown",
   "metadata": {},
   "source": [
    "# Workbench: Data validation"
   ]
  },
  {
   "cell_type": "markdown",
   "metadata": {},
   "source": [
    "## Setup"
   ]
  },
  {
   "cell_type": "code",
   "execution_count": null,
   "metadata": {},
   "outputs": [],
   "source": [
    "import utils\n",
    "import polars as pl\n",
    "import math\n",
    "from datetime import date\n",
    "from pathlib import Path\n",
    "\n",
    "for path in Path(\"input\").glob(\"*.accdb\"):\n",
    "  df_all = utils.get_df(path)\n",
    "\n",
    "# for validation involving rows with full IC number\n",
    "df_full_ic = df_all.filter(pl.col(\"ICNUMBER\").str.contains(r\"^\\d{12}$\"))\n",
    "\n",
    "# define identifier columns\n",
    "expr_id_cols = pl.col(\"DISTRICT\", \"LOCATION OF SCREENING\", \"DATESCREEN\", \"ICNUMBER\")"
   ]
  },
  {
   "cell_type": "markdown",
   "metadata": {},
   "source": [
    "`df`: Full rows  \n",
    "`df_full_ic`: Rows with full IC number - 12 digits."
   ]
  },
  {
   "cell_type": "markdown",
   "metadata": {},
   "source": [
    "## Dates"
   ]
  },
  {
   "cell_type": "markdown",
   "metadata": {},
   "source": [
    "### [`3 DATEBIRTH` vs `ICNUMBER`](../docs/rules.md#3-datebirth-vs-icnumber)"
   ]
  },
  {
   "cell_type": "code",
   "execution_count": null,
   "metadata": {},
   "outputs": [],
   "source": [
    "# get this year\n",
    "this_year = date.today().year\n",
    "this_year_p1 = math.floor(this_year / 100)\n",
    "this_year_p2 = this_year % 100"
   ]
  },
  {
   "cell_type": "code",
   "execution_count": null,
   "metadata": {},
   "outputs": [],
   "source": [
    "df = (\n",
    "  df_full_ic.select(\n",
    "    expr_id_cols,\n",
    "    \"DATEBIRTH\",\n",
    "    pl.col(\"ICNUMBER\").str.slice(0, 2).cast(pl.Int16).alias(\"R3_year_p2\"),\n",
    "  )\n",
    "  .with_columns(  # calculate first two digits of birth year from IC\n",
    "    pl.when(pl.col(\"R3_year_p2\") > this_year_p2)\n",
    "    .then(this_year_p1 - 1)\n",
    "    .otherwise(this_year_p1)\n",
    "    .cast(pl.Utf8)\n",
    "    .alias(\"R3_year_p1\")\n",
    "  )\n",
    "  .with_columns(  # concat the first two digit with IC number to form full date string\n",
    "    (pl.col(\"R3_year_p1\") + pl.col(\"ICNUMBER\").str.slice(0, 6)).alias(\"R3_datestr\"),\n",
    "  )\n",
    "  .with_columns(  # slice the string and cast into date\n",
    "    pl.concat_str(\n",
    "      [\n",
    "        pl.col(\"R3_datestr\").str.slice(0, 4),\n",
    "        pl.col(\"R3_datestr\").str.slice(4, 2),\n",
    "        pl.col(\"R3_datestr\").str.slice(6, 2),\n",
    "      ],\n",
    "      separator=\"-\",\n",
    "    )\n",
    "    .str.to_date()\n",
    "    .alias(\"R3_date_from_ic\")\n",
    "  )\n",
    "  .filter(pl.col(\"DATEBIRTH\") != pl.col(\"R3_date_from_ic\"))\n",
    ")\n",
    "\n",
    "df.select(expr_id_cols, R3_fail=1)"
   ]
  },
  {
   "cell_type": "markdown",
   "metadata": {},
   "source": [
    "### [4 `DATESCREEN` vs `DATE REFERRED` vs `DATE REFERRED QUIT SER`](../docs/rules.md#4-datescreen-vs-date-referred-vs-date-referred-quit-ser)"
   ]
  },
  {
   "cell_type": "code",
   "execution_count": null,
   "metadata": {},
   "outputs": [],
   "source": [
    "(\n",
    "  df_all.select(expr_id_cols, \"DATE REFERRED\", \"DATE REFERRED QUIT SER\").filter(\n",
    "    (pl.col(\"DATE REFERRED\") < pl.col(\"DATESCREEN\"))\n",
    "    | (pl.col(\"DATE REFERRED QUIT SER\") < pl.col(\"DATESCREEN\"))\n",
    "  )\n",
    ")\n"
   ]
  },
  {
   "cell_type": "markdown",
   "metadata": {},
   "source": [
    "### [5 `DATE REFERRED` vs `DATE SEEN BY SPECIALIST`](../docs/rules.md#5-date-referred-vs-date-seen-by-specialist)"
   ]
  },
  {
   "cell_type": "code",
   "execution_count": null,
   "metadata": {},
   "outputs": [],
   "source": [
    "df_all.select(expr_id_cols, \"DATE REFERRED\", \"DATE SEEN BY SPECIALIST\").filter(\n",
    "  (pl.col(\"DATE SEEN BY SPECIALIST\") < pl.col(\"DATE REFERRED\"))\n",
    ")"
   ]
  },
  {
   "cell_type": "markdown",
   "metadata": {},
   "source": [
    "### [6 `DATE REFERRED QUIT SER` vs `TARIKH TEMUJANJI QUIT SERVICE`](../docs/rules.md#6-date-referred-quit-ser-vs-tarikh-temujanji-quit-service)"
   ]
  },
  {
   "cell_type": "code",
   "execution_count": null,
   "metadata": {},
   "outputs": [],
   "source": [
    "df_all.select(\n",
    "  expr_id_cols, \"DATE REFERRED QUIT SER\", \"TARIKH TEMUJANJI QUIT SERVICE\"\n",
    ").filter((pl.col(\"TARIKH TEMUJANJI QUIT SERVICE\") < pl.col(\"DATE REFERRED QUIT SER\")))\n"
   ]
  },
  {
   "cell_type": "markdown",
   "metadata": {},
   "source": [
    "## Others"
   ]
  },
  {
   "cell_type": "markdown",
   "metadata": {},
   "source": [
    "### [1 `ICNUMBER` vs `GENDER`](../docs/rules.md#1-icnumber-vs-gender)"
   ]
  },
  {
   "cell_type": "code",
   "execution_count": null,
   "metadata": {},
   "outputs": [],
   "source": [
    "# validation library prototype\n",
    "\n",
    "from includes import RuleEnum\n",
    "\n",
    "\n",
    "def _get_fail_expr(rule_number: RuleEnum, col_list: list) -> pl.Expr:\n",
    "  return pl.struct(\n",
    "    pl.lit(rule_number.value).alias(\"rule\"), pl.struct(col_list).alias(\"data\")\n",
    "  ).alias(\"fail\")\n",
    "\n",
    "\n",
    "df_validate = pl.DataFrame(\n",
    "  schema={\n",
    "    \"DISTRICT\": pl.Utf8,\n",
    "    \"LOCATION OF SCREENING\": pl.Utf8,\n",
    "    \"DATESCREEN\": pl.Date,\n",
    "    \"ICNUMBER\": pl.Utf8,\n",
    "    \"fail\": pl.Struct({\"rule\": pl.Int16, \"data\": pl.Struct}),\n",
    "  }\n",
    ")"
   ]
  },
  {
   "cell_type": "code",
   "execution_count": null,
   "metadata": {},
   "outputs": [],
   "source": [
    "df = (\n",
    "  df_full_ic.select(expr_id_cols, \"GENDER CODE\")\n",
    "  .with_columns(\n",
    "    (pl.col(\"GENDER CODE\").cast(pl.Int16) % 2).alias(\"R1_GENDER_mod\"),\n",
    "    (pl.col(\"ICNUMBER\").str.slice(-1).cast(pl.Int16) % 2).alias(\"R1_IC_mod\"),\n",
    "  )\n",
    "  .filter(pl.col(\"R1_GENDER_mod\") != pl.col(\"R1_IC_mod\"))\n",
    "  .select(\n",
    "    expr_id_cols,\n",
    "    _get_fail_expr(RuleEnum.IC_VS_GENDER, [\"ICNUMBER\", \"GENDER CODE\"]),\n",
    "  )\n",
    ")\n",
    "\n",
    "df"
   ]
  },
  {
   "cell_type": "markdown",
   "metadata": {},
   "source": [
    "### [2 `LESION` vs `REFERAL TO SPECIALIST`](../docs/rules.md#2-lesion-vs-referal-to-specialist)"
   ]
  },
  {
   "cell_type": "code",
   "execution_count": null,
   "metadata": {},
   "outputs": [],
   "source": [
    "df_all.select(\n",
    "  expr_id_cols,\n",
    "  \"LESION\",\n",
    "  \"REFERAL TO SPECIALIST\",\n",
    "  pl.when(pl.col(\"LESION\") != pl.col(\"REFERAL TO SPECIALIST\"))\n",
    "  .then(1)\n",
    "  .otherwise(0)\n",
    "  .alias(\"R2_violation\"),\n",
    ").filter(pl.col(\"R2_violation\") == 1)"
   ]
  }
 ],
 "metadata": {
  "language_info": {
   "name": "python"
  }
 },
 "nbformat": 4,
 "nbformat_minor": 2
}
