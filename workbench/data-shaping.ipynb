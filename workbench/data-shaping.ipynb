{
 "cells": [
  {
   "cell_type": "markdown",
   "metadata": {},
   "source": [
    "# Data shaping"
   ]
  },
  {
   "cell_type": "markdown",
   "metadata": {},
   "source": [
    "## Setup"
   ]
  },
  {
   "cell_type": "code",
   "execution_count": null,
   "metadata": {},
   "outputs": [],
   "source": [
    "import utils\n",
    "import polars as pl\n",
    "from pathlib import Path"
   ]
  },
  {
   "cell_type": "code",
   "execution_count": null,
   "metadata": {},
   "outputs": [],
   "source": [
    "for path in Path(\"input\").glob(\"*.accdb\"):\n",
    "    df = utils.get_df(path)"
   ]
  },
  {
   "cell_type": "code",
   "execution_count": null,
   "metadata": {},
   "outputs": [],
   "source": [
    "# define identifier columns\n",
    "expr_identifier = pl.col(\"DISTRICT\", \"LOCATION OF SCREENING\", \"DATESCREEN\", \"ICNUMBER\")"
   ]
  },
  {
   "cell_type": "markdown",
   "metadata": {},
   "source": [
    "## 1 - `ICNUMBER` vs. `GENDER` for full I/C number patients"
   ]
  },
  {
   "cell_type": "code",
   "execution_count": null,
   "metadata": {},
   "outputs": [],
   "source": [
    "df.select(expr_identifier, \"GENDER CODE\").filter(\n",
    "  (pl.col(\"ICNUMBER\").str.len_chars() == 12) & (pl.col(\"ICNUMBER\").str.contains(r\"\\d$\"))\n",
    ").with_columns(\n",
    "  pl.col(\"GENDER CODE\").cast(pl.Int16) % 2,\n",
    "  pl.col(\"ICNUMBER\").str.slice(-1).cast(pl.Int16).alias(\"R1_IC_tail\") % 2,\n",
    ").filter(pl.col(\"GENDER CODE\") != pl.col(\"R1_IC_tail\"))\n"
   ]
  },
  {
   "cell_type": "markdown",
   "metadata": {},
   "source": [
    "## 2 - `LESION` vs. `REFERAL TO SPECIALIST`"
   ]
  },
  {
   "cell_type": "code",
   "execution_count": null,
   "metadata": {},
   "outputs": [],
   "source": [
    "df.select(\n",
    "  expr_identifier, \"LESION\", \"REFERAL TO SPECIALIST\",\n",
    "  pl.when(pl.col(\"LESION\") != pl.col(\"REFERAL TO SPECIALIST\"))\n",
    "  .then(1)\n",
    "  .otherwise(0)\n",
    "  .alias(\"R2_violation\"),\n",
    ").filter(pl.col(\"R2_violation\") == 1)\n"
   ]
  }
 ],
 "metadata": {
  "language_info": {
   "name": "python"
  }
 },
 "nbformat": 4,
 "nbformat_minor": 2
}
