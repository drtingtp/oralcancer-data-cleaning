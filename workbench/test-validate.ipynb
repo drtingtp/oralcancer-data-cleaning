{
 "cells": [
  {
   "cell_type": "code",
   "execution_count": null,
   "metadata": {},
   "outputs": [],
   "source": [
    "import polars as pl\n",
    "import validate.lesion as vl\n",
    "import validate.general as vg\n",
    "\n",
    "from constants import list_id_cols\n",
    "\n",
    "import utils\n",
    "from pathlib import Path\n",
    "import os\n",
    "\n",
    "PATH_INPUT = os.getenv(\"PATH_INPUT\")\n",
    "\n",
    "lf = utils.get_df(Path(PATH_INPUT).joinpath(\"test data.accdb\")).lazy()\n",
    "\n",
    "lf2 = utils.get_df(Path(PATH_INPUT).joinpath(\"ZON CHERAS OC DATABASE JULY-OCT 2023 edit MAIwani.accdb\")).lazy()\n",
    "\n",
    "obj = vg.ValidationGeneral(lf, \"test data\")\n",
    "lfall = pl.concat([lf, lf2])"
   ]
  },
  {
   "cell_type": "code",
   "execution_count": null,
   "metadata": {},
   "outputs": [],
   "source": [
    "lfall.columns"
   ]
  },
  {
   "cell_type": "markdown",
   "metadata": {},
   "source": [
    "0 - No such habit\n",
    "1- habit currently practiced\n",
    "2 - past habit now has stopped (minimum 6 months)"
   ]
  },
  {
   "cell_type": "code",
   "execution_count": null,
   "metadata": {},
   "outputs": [],
   "source": [
    "str_habit_false = \"0 - No such habit\"\n",
    "lfall.select(#*list_id_cols,\n",
    "    \"TOBACCO\",\n",
    "    \"TOBACCO_ADVISED\",\n",
    "    \"TOBACCO QUIT\",\n",
    "    \"REFERRAL TO QUIT SERVICES\",\n",
    "    \"DATE REFERRED QUIT SER\",\n",
    ").with_columns(\n",
    "    pl.when(pl.col(\"DATE REFERRED QUIT SER\").is_null())\n",
    "    .then(False)\n",
    "    .otherwise(True)\n",
    "    .alias(\"has_referred_date\")\n",
    "  ).filter((pl.col(\"REFERRAL TO QUIT SERVICES\") != pl.col(\"has_referred_date\"))).collect()\n"
   ]
  }
 ],
 "metadata": {
  "language_info": {
   "name": "python"
  }
 },
 "nbformat": 4,
 "nbformat_minor": 2
}
