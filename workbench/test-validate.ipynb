{
 "cells": [
  {
   "cell_type": "code",
   "execution_count": null,
   "metadata": {},
   "outputs": [],
   "source": [
    "import polars as pl\n",
    "import validate.lesion as vl\n",
    "import validate.general as vg\n",
    "\n",
    "from constants import list_id_cols\n",
    "\n",
    "import utils\n",
    "from pathlib import Path\n",
    "import os\n",
    "\n",
    "PATH_INPUT = os.getenv(\"PATH_INPUT\")\n",
    "\n",
    "lf = utils.get_df(Path(PATH_INPUT).joinpath(\"test data.accdb\")).lazy()\n",
    "\n",
    "lf2 = utils.get_df(Path(PATH_INPUT).joinpath(\"ZON CHERAS OC DATABASE JULY-OCT 2023 edit MAIwani.accdb\")).lazy()"
   ]
  },
  {
   "cell_type": "code",
   "execution_count": null,
   "metadata": {},
   "outputs": [],
   "source": [
    "obj = vg.ValidationGeneral(lf, \"test data\")"
   ]
  },
  {
   "cell_type": "code",
   "execution_count": null,
   "metadata": {},
   "outputs": [],
   "source": [
    "lfall = pl.concat([lf, lf2])"
   ]
  },
  {
   "cell_type": "code",
   "execution_count": null,
   "metadata": {},
   "outputs": [],
   "source": [
    "lfall.columns"
   ]
  },
  {
   "cell_type": "code",
   "execution_count": null,
   "metadata": {},
   "outputs": [],
   "source": [
    "lfall.with_columns(\"LESION\", \"TELEPHONE NO\").filter(\n",
    "  (pl.col(\"LESION\") == True)\n",
    "  & ~(pl.col(\"TELEPHONE NO\").str.contains(r\"^(6?0[1-9])\\d{7,9}$\"))\n",
    ").collect()\n"
   ]
  }
 ],
 "metadata": {
  "language_info": {
   "name": "python"
  }
 },
 "nbformat": 4,
 "nbformat_minor": 2
}
