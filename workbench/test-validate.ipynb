{
 "cells": [
  {
   "cell_type": "code",
   "execution_count": null,
   "metadata": {},
   "outputs": [],
   "source": [
    "import polars as pl\n",
    "import validate.lesion as vl\n",
    "import validate.general as vg\n",
    "\n",
    "from constants import list_id_cols\n",
    "\n",
    "import utils\n",
    "from pathlib import Path\n",
    "import os\n",
    "\n",
    "PATH_INPUT = os.getenv(\"PATH_INPUT\")\n",
    "\n",
    "lf = utils.get_df(Path(PATH_INPUT).joinpath(\"test data.accdb\")).lazy()\n",
    "\n",
    "lf2 = utils.get_df(Path(PATH_INPUT).joinpath(\"ZON CHERAS OC DATABASE JULY-OCT 2023 edit MAIwani.accdb\")).lazy()\n",
    "\n",
    "obj = vg.ValidationGeneral(lf, \"test data\")\n",
    "lfall = pl.concat([lf, lf2])"
   ]
  },
  {
   "cell_type": "code",
   "execution_count": null,
   "metadata": {},
   "outputs": [],
   "source": [
    "lfall.columns"
   ]
  },
  {
   "cell_type": "code",
   "execution_count": null,
   "metadata": {},
   "outputs": [],
   "source": [
    "intervention_status_whitelist = [\n",
    "  \"Null|Null\",\n",
    "  \"TIDAK HADIR|II- GAGAL DATANG TEMUJANJI\",\n",
    "  \"HADIR|I- SEDANG MENERIMA RAWATAN\",\n",
    "  \"HADIR|III- GAGAL BERHENTI\",\n",
    "  \"HADIR|IV- BERJAYA BERHENTI SELAMA 6 BULAN\",\n",
    "]\n",
    "\n",
    "lfall.select(\"HADIR QUIT SERVICES\", \"STATUS INTERVENSI\").select(\n",
    "  pl.col(\"HADIR QUIT SERVICES\", \"STATUS INTERVENSI\").fill_null(\"Null\")\n",
    ").with_columns(\n",
    "  pl.concat_str(\n",
    "    pl.col(\"HADIR QUIT SERVICES\", \"STATUS INTERVENSI\"), separator=(\"|\")\n",
    "  ).alias(\"concat\")\n",
    ").filter(~pl.col(\"concat\").is_in(intervention_status_whitelist)).collect()\n"
   ]
  }
 ],
 "metadata": {
  "language_info": {
   "name": "python"
  }
 },
 "nbformat": 4,
 "nbformat_minor": 2
}
