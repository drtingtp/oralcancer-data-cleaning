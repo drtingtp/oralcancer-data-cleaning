{
 "cells": [
  {
   "cell_type": "code",
   "execution_count": null,
   "metadata": {},
   "outputs": [],
   "source": [
    "import polars as pl\n",
    "import validate.lesion as vl\n",
    "import validate.general as vg\n",
    "\n",
    "from constants import list_id_cols\n",
    "\n",
    "import utils\n",
    "from pathlib import Path\n",
    "import os\n",
    "\n",
    "PATH_INPUT = os.getenv(\"PATH_INPUT\")\n",
    "\n",
    "lf = utils.get_df(Path(PATH_INPUT).joinpath(\"test data.accdb\")).lazy()\n",
    "\n",
    "lf2 = utils.get_df(Path(PATH_INPUT).joinpath(\"ZON CHERAS OC DATABASE JULY-OCT 2023 edit MAIwani.accdb\")).lazy()\n",
    "\n",
    "obj = vg.ValidationGeneral(lf, \"test data\")\n",
    "lfall = pl.concat([lf, lf2])"
   ]
  },
  {
   "cell_type": "code",
   "execution_count": null,
   "metadata": {},
   "outputs": [],
   "source": [
    "lfall.columns"
   ]
  },
  {
   "cell_type": "code",
   "execution_count": null,
   "metadata": {},
   "outputs": [],
   "source": [
    "print(\n",
    "  lfall.select(\"HADIR QUIT SERVICES\", \"STATUS INTERVENSI\").group_by(\"*\").agg().collect()\n",
    ")\n"
   ]
  },
  {
   "cell_type": "code",
   "execution_count": null,
   "metadata": {},
   "outputs": [],
   "source": [
    "lfall.select(\n",
    "  pl.col(\"ICNUMBER\"),\n",
    "  pl.col(\"REFERRAL TO QUIT SERVICES\"),\n",
    "  pl.col(\"DATE REFERRED QUIT SER\"),\n",
    "  pl.col(\"TARIKH TEMUJANJI QUIT SERVICE\"),\n",
    "  pl.when(pl.col(\"DATE REFERRED QUIT SER\").is_null())\n",
    "  .then(False)\n",
    "  .otherwise(True)\n",
    "  .alias(\"has_referred_date\"),\n",
    "  pl.when(pl.col(\"TARIKH TEMUJANJI QUIT SERVICE\").is_null())\n",
    "  .then(False)\n",
    "  .otherwise(True)\n",
    "  .alias(\"has_appt_date\"),\n",
    ").filter(pl.col(\"REFERRAL TO QUIT SERVICES\")).collect()\n"
   ]
  }
 ],
 "metadata": {
  "language_info": {
   "name": "python"
  }
 },
 "nbformat": 4,
 "nbformat_minor": 2
}
