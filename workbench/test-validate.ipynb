{
 "cells": [
  {
   "cell_type": "code",
   "execution_count": null,
   "metadata": {},
   "outputs": [],
   "source": [
    "import polars as pl\n",
    "import validate.lesion as vl\n",
    "import validate.general as vg\n",
    "\n",
    "from constants import list_id_cols\n",
    "\n",
    "import utils\n",
    "from pathlib import Path\n",
    "import os\n",
    "\n",
    "PATH_INPUT = os.getenv(\"PATH_INPUT\")\n",
    "\n",
    "lf = utils.get_df(Path(PATH_INPUT).joinpath(\"test data.accdb\")).lazy()\n",
    "\n",
    "lf2 = utils.get_df(Path(PATH_INPUT).joinpath(\"ZON CHERAS OC DATABASE JULY-OCT 2023 edit MAIwani.accdb\")).lazy()\n",
    "\n",
    "obj = vg.ValidationGeneral(lf, \"test data\")\n",
    "lfall = pl.concat([lf, lf2])"
   ]
  },
  {
   "cell_type": "code",
   "execution_count": null,
   "metadata": {},
   "outputs": [],
   "source": [
    "lfall.columns"
   ]
  },
  {
   "cell_type": "code",
   "execution_count": null,
   "metadata": {},
   "outputs": [],
   "source": [
    "famihistcancer_whitelist = [\"false|false|false\", \"true|true|true\"]\n",
    "additionaldetails_blacklist = [\"true|false|true\", \"true|true|false\"]\n",
    "\n",
    "lfall.select(\"LESION\", \"OCCUPATION\", \"EDUCATION LEVEL CODE\").with_columns(\n",
    "  pl.when(pl.col(\"OCCUPATION\").is_not_null())\n",
    "  .then(True)\n",
    "  .otherwise(False)\n",
    "  .alias(\"occupation_filled\"),\n",
    "  pl.when(pl.col(\"EDUCATION LEVEL CODE\").is_not_null())\n",
    "  .then(True)\n",
    "  .otherwise(False)\n",
    "  .alias(\"education_filled\"),\n",
    ").with_columns(\n",
    "  pl.concat_str(\n",
    "    [\"LESION\", \"occupation_filled\", \"education_filled\"], separator=\"|\"\n",
    "  ).alias(\"invalid_combination\")\n",
    ").filter(pl.col(\"invalid_combination\").is_in(additionaldetails_blacklist)).collect()\n"
   ]
  }
 ],
 "metadata": {
  "language_info": {
   "name": "python"
  }
 },
 "nbformat": 4,
 "nbformat_minor": 2
}
