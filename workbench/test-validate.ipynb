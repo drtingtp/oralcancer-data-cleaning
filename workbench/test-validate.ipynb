{
 "cells": [
  {
   "cell_type": "code",
   "execution_count": null,
   "metadata": {},
   "outputs": [],
   "source": [
    "import polars as pl\n",
    "import validate.lesion as vl\n",
    "import validate.general as vg\n",
    "\n",
    "from constants import list_id_cols\n",
    "\n",
    "import utils\n",
    "from pathlib import Path\n",
    "import os\n",
    "\n",
    "PATH_INPUT = os.getenv(\"PATH_INPUT\")\n",
    "\n",
    "lf = utils.get_df(Path(PATH_INPUT).joinpath(\"test data.accdb\")).lazy()\n",
    "\n",
    "lf2 = utils.get_df(Path(PATH_INPUT).joinpath(\"ZON CHERAS OC DATABASE JULY-OCT 2023 edit MAIwani.accdb\")).lazy()\n",
    "\n",
    "obj = vg.ValidationGeneral(lf, \"test data\")\n",
    "lfall = pl.concat([lf, lf2])"
   ]
  },
  {
   "cell_type": "code",
   "execution_count": null,
   "metadata": {},
   "outputs": [],
   "source": [
    "lfall.columns"
   ]
  },
  {
   "cell_type": "code",
   "execution_count": null,
   "metadata": {},
   "outputs": [],
   "source": [
    "lfall.select(\"FAMILY\", \"FAMILYHSIT SPECIFY\", \"RELATION\").collect()"
   ]
  },
  {
   "cell_type": "code",
   "execution_count": null,
   "metadata": {},
   "outputs": [],
   "source": [
    "famihistcancer_whitelist = [\n",
    "  \"false|false|false\",\n",
    "  \"true|true|true\"\n",
    "]\n",
    "\n",
    "lfall.select(\"FAMILY\", \"FAMILYHSIT SPECIFY\", \"RELATION\").with_columns(\n",
    "  pl.when(pl.col(\"FAMILYHSIT SPECIFY\").is_not_null())\n",
    "  .then(True)\n",
    "  .otherwise(False)\n",
    "  .alias(\"specify_filled\"),\n",
    "  pl.when(pl.col(\"RELATION\").is_not_null())\n",
    "  .then(True)\n",
    "  .otherwise(False)\n",
    "  .alias(\"relation_filled\"),\n",
    ").with_columns(\n",
    "  pl.concat_str(\"FAMILY\", \"specify_filled\", \"relation_filled\", separator=\"|\").alias(\n",
    "    \"invalid_combination\"\n",
    "  )\n",
    ").filter(~pl.col(\"invalid_combination\").is_in(famihistcancer_whitelist)).collect()\n"
   ]
  }
 ],
 "metadata": {
  "language_info": {
   "name": "python"
  }
 },
 "nbformat": 4,
 "nbformat_minor": 2
}
