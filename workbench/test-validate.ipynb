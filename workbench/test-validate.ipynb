{
 "cells": [
  {
   "cell_type": "code",
   "execution_count": null,
   "metadata": {},
   "outputs": [],
   "source": [
    "import polars as pl\n",
    "import validate.lesion as vl\n",
    "import validate.general as vg\n",
    "\n",
    "from constants import list_id_cols\n",
    "\n",
    "import utils\n",
    "from pathlib import Path\n",
    "import os\n",
    "\n",
    "PATH_INPUT = os.getenv(\"PATH_INPUT\")\n",
    "\n",
    "lf = utils.get_df(Path(PATH_INPUT).joinpath(\"test data.accdb\")).lazy()\n",
    "\n",
    "lf2 = utils.get_df(Path(PATH_INPUT).joinpath(\"ZON CHERAS OC DATABASE JULY-OCT 2023 edit MAIwani.accdb\")).lazy()\n",
    "\n",
    "obj = vg.ValidationGeneral(lf, \"test data\")\n",
    "lfall = pl.concat([lf, lf2])"
   ]
  },
  {
   "cell_type": "code",
   "execution_count": null,
   "metadata": {},
   "outputs": [],
   "source": [
    "lfall.columns"
   ]
  },
  {
   "cell_type": "markdown",
   "metadata": {},
   "source": [
    "0 - No such habit\n",
    "1- habit currently practiced\n",
    "2 - past habit now has stopped (minimum 6 months)"
   ]
  },
  {
   "cell_type": "code",
   "execution_count": null,
   "metadata": {},
   "outputs": [],
   "source": [
    "str_habit_false = \"0 - No such habit\"\n",
    "lfall.select(\n",
    "  pl.col(*list_id_cols, \"HABITS\", \"TOBACCO\", \"BBETEL QUID CHEWING\", \"ALCOHOL\")\n",
    ").with_columns(\n",
    "  pl.when(pl.col(\"TOBACCO\").is_null() | pl.col(\"TOBACCO\").eq(str_habit_false))\n",
    "  .then(False)\n",
    "  .otherwise(True)\n",
    "  .alias(\"bool_tobacco\"),\n",
    "  pl.when(\n",
    "    pl.col(\"BBETEL QUID CHEWING\").is_null()\n",
    "    | pl.col(\"BBETEL QUID CHEWING\").eq(str_habit_false)\n",
    "  )\n",
    "  .then(False)\n",
    "  .otherwise(True)\n",
    "  .alias(\"bool_betel\"),\n",
    "  pl.when(pl.col(\"ALCOHOL\").is_null() | pl.col(\"ALCOHOL\").eq(str_habit_false))\n",
    "  .then(False)\n",
    "  .otherwise(True)\n",
    "  .alias(\"bool_alcohol\"),\n",
    ").with_columns(\n",
    "  pl.any_horizontal([\"bool_tobacco\", \"bool_betel\", \"bool_alcohol\"]).alias(\"bool_any\")\n",
    ").filter(pl.col(\"HABITS\") != pl.col(\"bool_any\")).collect()\n"
   ]
  },
  {
   "cell_type": "code",
   "execution_count": null,
   "metadata": {},
   "outputs": [],
   "source": []
  }
 ],
 "metadata": {
  "language_info": {
   "name": "python"
  }
 },
 "nbformat": 4,
 "nbformat_minor": 2
}
