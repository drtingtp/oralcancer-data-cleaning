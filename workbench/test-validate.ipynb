{
 "cells": [
  {
   "cell_type": "code",
   "execution_count": null,
   "metadata": {},
   "outputs": [],
   "source": [
    "import polars as pl\n",
    "import validate.lesion as vl\n",
    "import validate.general as vg\n",
    "\n",
    "from constants import list_id_cols\n",
    "\n",
    "import utils\n",
    "from pathlib import Path\n",
    "import os\n",
    "\n",
    "PATH_INPUT = os.getenv(\"PATH_INPUT\")\n",
    "\n",
    "lf = utils.get_df(Path(PATH_INPUT).joinpath(\"test data.accdb\")).lazy()\n",
    "\n",
    "lf2 = utils.get_df(Path(PATH_INPUT).joinpath(\"ZON CHERAS OC DATABASE JULY-OCT 2023 edit MAIwani.accdb\")).lazy()\n",
    "\n",
    "obj = vg.ValidationGeneral(lf, \"test data\")\n",
    "lfall = pl.concat([lf, lf2])"
   ]
  },
  {
   "cell_type": "code",
   "execution_count": null,
   "metadata": {},
   "outputs": [],
   "source": [
    "from datetime import date\n",
    "import math\n",
    "\n",
    "# constants\n",
    "this_year = date.today().year\n",
    "this_year_p1 = math.floor(this_year / 100)  # first two digits\n",
    "this_year_p2 = this_year % 100  # last two digits\n",
    "\n",
    "lfall.select(list_id_cols).with_columns(  # slice first two digits as year_p2\n",
    "  pl.when(pl.col(\"ICNUMBER\").str.contains(r\"^\\d{12}$\"))\n",
    "  .then(True)\n",
    "  .otherwise(False)\n",
    "  .alias(\"valid_ic_digits\"),\n",
    "  pl.col(\"ICNUMBER\").str.slice(0, 2).cast(pl.Int16).alias(\"year_p2\"),\n",
    ").with_columns(  # calculate first two digits of birth year from IC\n",
    "  pl.when(pl.col(\"year_p2\") > this_year_p2)\n",
    "  .then(this_year_p1 - 1)\n",
    "  .otherwise(this_year_p1)\n",
    "  .cast(pl.Utf8)\n",
    "  .alias(\"year_p1\"),\n",
    ").with_columns(\n",
    "  pl.concat_str(  # concat into full date string\n",
    "    pl.col(\"year_p1\"),\n",
    "    pl.col(\"ICNUMBER\").str.slice(0, 2),\n",
    "    pl.lit(\"-\"),\n",
    "    pl.col(\"ICNUMBER\").str.slice(2, 2),\n",
    "    pl.lit(\"-\"),\n",
    "    pl.col(\"ICNUMBER\").str.slice(4, 2),\n",
    "  ).alias(\"datebirth_from_ic\")\n",
    ").drop([\"year_p1\", \"year_p2\"]).with_columns(\n",
    "  pl.col(\"datebirth_from_ic\").str.to_date(strict=False)\n",
    ").with_columns(\n",
    "  pl.when(pl.col(\"datebirth_from_ic\").is_null())\n",
    "  .then(False)\n",
    "  .otherwise(True)\n",
    "  .alias(\"valid_ic_date\")\n",
    ").with_columns(\n",
    "  pl.all_horizontal(pl.col(\"valid_ic_digits\"), pl.col(\"valid_ic_date\")).alias(\n",
    "    \"valid_ic\"\n",
    "  )\n",
    ").filter(pl.col(\"valid_ic\") == False).collect()\n"
   ]
  },
  {
   "cell_type": "code",
   "execution_count": null,
   "metadata": {},
   "outputs": [],
   "source": [
    "lfall.columns"
   ]
  },
  {
   "cell_type": "markdown",
   "metadata": {},
   "source": [
    "0 - No such habit\n",
    "1- habit currently practiced\n",
    "2 - past habit now has stopped (minimum 6 months)"
   ]
  },
  {
   "cell_type": "code",
   "execution_count": null,
   "metadata": {},
   "outputs": [],
   "source": [
    "str_habit_false = \"0 - No such habit\"\n",
    "lfall.select(#*list_id_cols,\n",
    "    \"TOBACCO\",\n",
    "    \"TOBACCO_ADVISED\",\n",
    "    \"TOBACCO QUIT\",\n",
    "    \"REFERRAL TO QUIT SERVICES\",\n",
    "    \"DATE REFERRED QUIT SER\",\n",
    ").filter((pl.col(\"REFERRAL TO QUIT SERVICES\") == True) & (pl.col(\"DATE REFERRED QUIT SER\").is_null())).collect()\n"
   ]
  }
 ],
 "metadata": {
  "language_info": {
   "name": "python"
  }
 },
 "nbformat": 4,
 "nbformat_minor": 2
}
