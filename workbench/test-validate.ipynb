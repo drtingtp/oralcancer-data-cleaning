{
 "cells": [
  {
   "cell_type": "code",
   "execution_count": null,
   "metadata": {},
   "outputs": [],
   "source": [
    "import polars as pl\n",
    "import validate.lesion as vl\n",
    "import validate.general as vg\n",
    "\n",
    "from constants import list_id_cols\n",
    "\n",
    "import utils\n",
    "from pathlib import Path\n",
    "import os\n",
    "\n",
    "PATH_INPUT = os.getenv(\"PATH_INPUT\")\n",
    "\n",
    "lf = utils.get_df(Path(PATH_INPUT).joinpath(\"test data.accdb\")).lazy()\n",
    "\n",
    "lf2 = utils.get_df(Path(PATH_INPUT).joinpath(\"ZON CHERAS OC DATABASE JULY-OCT 2023 edit MAIwani.accdb\")).lazy()\n",
    "\n",
    "obj = vg.ValidationGeneral(lf, \"test data\")\n",
    "lfall = pl.concat([lf, lf2])"
   ]
  },
  {
   "cell_type": "code",
   "execution_count": null,
   "metadata": {},
   "outputs": [],
   "source": [
    "lfall.columns"
   ]
  },
  {
   "cell_type": "markdown",
   "metadata": {},
   "source": [
    "0 - No such habit\n",
    "1- habit currently practiced\n",
    "2 - past habit now has stopped (minimum 6 months)"
   ]
  },
  {
   "cell_type": "code",
   "execution_count": null,
   "metadata": {},
   "outputs": [],
   "source": [
    "lfall.filter(pl.col(\"ID\") == \"test\").select(\n",
    "  pl.col(\"DATE REFERRED QUIT SER\", \"TARIKH TEMUJANJI QUIT SERVICE\"),\n",
    "  pl.when(pl.col(\"DATE REFERRED QUIT SER\").is_not_null())\n",
    "  .then(True)\n",
    "  .otherwise(False)\n",
    "  .alias(\"date_referred_filled\"),\n",
    "  pl.when(pl.col(\"TARIKH TEMUJANJI QUIT SERVICE\").is_not_null())\n",
    "  .then(True)\n",
    "  .otherwise(False)\n",
    "  .alias(\"appt_date_filled\"),\n",
    "  pl.when(pl.col(\"TARIKH TEMUJANJI QUIT SERVICE\") >= pl.col(\"DATE REFERRED QUIT SER\"))\n",
    "  .then(True)\n",
    "  .otherwise(False)\n",
    "  .alias(\"valid_date_sequence\"),\n",
    ").filter(pl.any_horizontal([\"date_referred_filled\", \"appt_date_filled\"])).with_columns(\n",
    "  (pl.col(\"date_referred_filled\") == pl.col(\"appt_date_filled\")).alias(\n",
    "    \"valid_completeness\"\n",
    "  ),\n",
    "  pl.col(\"valid_date_sequence\"),\n",
    ").filter(~pl.all_horizontal(\"valid_completeness\", \"valid_date_sequence\")).collect()\n"
   ]
  }
 ],
 "metadata": {
  "language_info": {
   "name": "python"
  }
 },
 "nbformat": 4,
 "nbformat_minor": 2
}
